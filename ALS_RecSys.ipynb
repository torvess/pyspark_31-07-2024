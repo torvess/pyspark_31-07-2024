{
  "cells": [
    {
      "cell_type": "markdown",
      "metadata": {
        "id": "DxnXW5x_n5Fq"
      },
      "source": [
        "# Configurando bibliotecas e dependencias"
      ]
    },
    {
      "cell_type": "code",
      "execution_count": null,
      "metadata": {
        "colab": {
          "base_uri": "https://localhost:8080/"
        },
        "id": "2J2AqS2enwcR",
        "outputId": "ff22918b-aafc-4c6c-8ee8-3fb2a11b589f"
      },
      "outputs": [],
      "source": [
        "!pip install pyspark"
      ]
    },
    {
      "cell_type": "code",
      "execution_count": null,
      "metadata": {
        "colab": {
          "base_uri": "https://localhost:8080/"
        },
        "id": "MYSORPqtoBnj",
        "outputId": "7618fa60-cdd1-4e14-aa52-253e7f42ce5c"
      },
      "outputs": [],
      "source": [
        "!pip install findspark"
      ]
    },
    {
      "cell_type": "code",
      "execution_count": null,
      "metadata": {
        "id": "-CaeYO4F-OPi"
      },
      "outputs": [],
      "source": [
        "# instalar as dependências\n",
        "!apt-get install openjdk-8-jdk-headless -qq > /dev/null\n",
        "!wget -q https://archive.apache.org/dist/spark/spark-2.4.4/spark-2.4.4-bin-hadoop2.7.tgz\n",
        "!tar xf spark-2.4.4-bin-hadoop2.7.tgz"
      ]
    },
    {
      "cell_type": "code",
      "execution_count": null,
      "metadata": {
        "id": "sOGzt4aB-fjg"
      },
      "outputs": [],
      "source": [
        "# configurar as variáveis de ambiente\n",
        "import os\n",
        "os.environ[\"JAVA_HOME\"] = \"/usr/lib/jvm/java-8-openjdk-amd64\"\n",
        "os.environ[\"SPARK_HOME\"] = \"/content/spark-2.4.4-bin-hadoop2.7\"\n",
        "\n",
        "# tornar o pyspark \"importável\"\n",
        "import findspark\n",
        "findspark.init('spark-2.4.4-bin-hadoop2.7')"
      ]
    },
    {
      "cell_type": "code",
      "execution_count": null,
      "metadata": {
        "id": "uIfWkewv-mXF"
      },
      "outputs": [],
      "source": [
        "from pyspark.sql import SparkSession\n",
        "from pyspark.ml.evaluation import RegressionEvaluator #evaluation é a biblioteca para verificação da qualidade do modelo\n",
        "from pyspark.ml.recommendation import ALS # ALS é o modelo de recomendação que será utilizadp\n",
        "from pyspark.sql import Row #row é o formato que o ALS trabalha, row conterá o id do usuario, id filme, nota e timestamp"
      ]
    },
    {
      "cell_type": "code",
      "execution_count": null,
      "metadata": {
        "id": "o_MjmoGl_AaX"
      },
      "outputs": [],
      "source": [
        "spark = SparkSession.builder.master('local[*]').getOrCreate()"
      ]
    },
    {
      "cell_type": "code",
      "execution_count": null,
      "metadata": {
        "id": "hbVUD2aqg8Gk"
      },
      "outputs": [],
      "source": [
        "lines = spark.read.text(\"sample_movielens_ratings.txt\").rdd"
      ]
    },
    {
      "cell_type": "code",
      "execution_count": null,
      "metadata": {
        "id": "eqqx9-H1_WOX"
      },
      "outputs": [],
      "source": [
        "parts = lines.map(lambda row: row.value.split(\"::\"))"
      ]
    },
    {
      "cell_type": "code",
      "execution_count": null,
      "metadata": {
        "id": "pWwOX1o4DrlY"
      },
      "outputs": [],
      "source": [
        "ratingsRDD = parts.map(lambda p: Row(userId=int(p[0]), \\\n",
        "                                     movieId=int(p[1]), \\\n",
        "                                     rating=float(p[2]), \\\n",
        "                                     timestamp=int(p[3])))"
      ]
    },
    {
      "cell_type": "code",
      "execution_count": null,
      "metadata": {
        "id": "W5T4NAi1nS2S"
      },
      "outputs": [],
      "source": [
        "ratings = spark.createDataFrame(ratingsRDD)"
      ]
    },
    {
      "cell_type": "code",
      "execution_count": null,
      "metadata": {
        "colab": {
          "base_uri": "https://localhost:8080/"
        },
        "id": "AEwM84O_rUBR",
        "outputId": "7403bb5e-c6f6-445f-e545-30f0a2bd2044"
      },
      "outputs": [],
      "source": [
        "lines.collect()"
      ]
    },
    {
      "cell_type": "code",
      "execution_count": null,
      "metadata": {
        "colab": {
          "base_uri": "https://localhost:8080/"
        },
        "id": "He6QkNy9hXmz",
        "outputId": "9406098c-efd7-447d-e5e0-7afe15b0a9fa"
      },
      "outputs": [],
      "source": [
        "ratings.show()"
      ]
    },
    {
      "cell_type": "code",
      "execution_count": null,
      "metadata": {
        "id": "-zpPhZ61hgon"
      },
      "outputs": [],
      "source": [
        "(training, test) = ratings.randomSplit([0.8, 0.2]) #divide o df em porções para treinamento e teste"
      ]
    },
    {
      "cell_type": "code",
      "execution_count": null,
      "metadata": {
        "id": "jp9FAaBshqUh"
      },
      "outputs": [],
      "source": [
        "als = ALS(maxIter=5, \\\n",
        "          regParam=0.01, \\\n",
        "          userCol=\"userId\", \\\n",
        "          itemCol=\"movieId\", \\\n",
        "          ratingCol=\"rating\", \\\n",
        "          coldStartStrategy=\"drop\")"
      ]
    },
    {
      "cell_type": "code",
      "execution_count": null,
      "metadata": {
        "id": "jLt3j9WXhih9"
      },
      "outputs": [],
      "source": [
        "model = als.fit(training) #treina o modelo com o dataset de treinamento"
      ]
    },
    {
      "cell_type": "code",
      "execution_count": null,
      "metadata": {
        "colab": {
          "base_uri": "https://localhost:8080/"
        },
        "id": "ooGOA8s8iLES",
        "outputId": "7d3dd088-21f2-498b-ccd0-1425133f2f35"
      },
      "outputs": [],
      "source": [
        "predictions = model.transform(test) #aplica o modelo no conjunto de teste para fazer predições\n",
        "evaluator = RegressionEvaluator(metricName=\"rmse\", labelCol=\"rating\",\n",
        "                               predictionCol=\"prediction\")\n",
        "rmse = evaluator.evaluate(predictions)\n",
        "print(\"Erro médio quadrático = \" + str(rmse))"
      ]
    },
    {
      "cell_type": "code",
      "execution_count": null,
      "metadata": {
        "id": "1AayAItWmX53"
      },
      "outputs": [],
      "source": [
        "userRec = model.recommendForAllUsers(10)"
      ]
    },
    {
      "cell_type": "code",
      "execution_count": null,
      "metadata": {
        "colab": {
          "base_uri": "https://localhost:8080/"
        },
        "id": "J2D3AX47mbno",
        "outputId": "a78802ff-2804-43f9-dda5-a46fc0159749"
      },
      "outputs": [],
      "source": [
        "userRec.show()"
      ]
    },
    {
      "cell_type": "code",
      "execution_count": null,
      "metadata": {
        "id": "at1apd0lmhBk"
      },
      "outputs": [],
      "source": [
        "movieRecs = model.recommendForAllItems(10) #faz a transposta da matriz de ratings, a fim de recomendar usuários em potencial para itens específicos"
      ]
    },
    {
      "cell_type": "code",
      "execution_count": null,
      "metadata": {
        "colab": {
          "base_uri": "https://localhost:8080/"
        },
        "id": "Al3u35R2mi_p",
        "outputId": "1549ad9a-7458-42c7-c55e-28a4aba55bc8"
      },
      "outputs": [],
      "source": [
        "movieRecs.show()"
      ]
    },
    {
      "cell_type": "code",
      "execution_count": null,
      "metadata": {
        "id": "otO0JDGRmmPd"
      },
      "outputs": [],
      "source": [
        "users = ratings.select(als.getUserCol()).distinct() #selecina os usuários que existem nesse universo"
      ]
    },
    {
      "cell_type": "code",
      "execution_count": null,
      "metadata": {
        "colab": {
          "base_uri": "https://localhost:8080/"
        },
        "id": "tM8z5hpumo-f",
        "outputId": "1e526cb1-d153-4ea5-91fc-4358de25c484"
      },
      "outputs": [],
      "source": [
        "users.show()"
      ]
    },
    {
      "cell_type": "code",
      "execution_count": null,
      "metadata": {
        "id": "YeIDF41BmtFd"
      },
      "outputs": [],
      "source": [
        "UserRecsOnlyItemId = userRec.select(userRec['userId'], \\\n",
        "                                    userRec['recommendations']['movieid'])"
      ]
    },
    {
      "cell_type": "code",
      "execution_count": null,
      "metadata": {
        "colab": {
          "base_uri": "https://localhost:8080/"
        },
        "id": "JFt5sr2voUbS",
        "outputId": "9c5d3ed9-6826-45c3-9bdd-226271ef68cc"
      },
      "outputs": [],
      "source": [
        "UserRecsOnlyItemId.show(10, False) #mostra somente as recomendações por usuário"
      ]
    }
  ],
  "metadata": {
    "colab": {
      "provenance": []
    },
    "kernelspec": {
      "display_name": "Python 3",
      "name": "python3"
    },
    "language_info": {
      "codemirror_mode": {
        "name": "ipython",
        "version": 3
      },
      "file_extension": ".py",
      "mimetype": "text/x-python",
      "name": "python",
      "nbconvert_exporter": "python",
      "pygments_lexer": "ipython3",
      "version": "3.12.2"
    }
  },
  "nbformat": 4,
  "nbformat_minor": 0
}
