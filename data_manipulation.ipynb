{
 "cells": [
  {
   "cell_type": "markdown",
   "metadata": {},
   "source": [
    "## Instalando a biblioteca PYSpark"
   ]
  },
  {
   "cell_type": "code",
   "execution_count": 1,
   "metadata": {},
   "outputs": [
    {
     "name": "stdout",
     "output_type": "stream",
     "text": [
      "Requirement already satisfied: pyspark in c:\\users\\igor\\appdata\\local\\programs\\python\\python312\\lib\\site-packages (3.5.1)\n",
      "Requirement already satisfied: py4j==0.10.9.7 in c:\\users\\igor\\appdata\\local\\programs\\python\\python312\\lib\\site-packages (from pyspark) (0.10.9.7)\n"
     ]
    }
   ],
   "source": [
    "!pip install pyspark"
   ]
  },
  {
   "cell_type": "code",
   "execution_count": 2,
   "metadata": {},
   "outputs": [
    {
     "name": "stdout",
     "output_type": "stream",
     "text": [
      "Requirement already satisfied: findspark in c:\\users\\igor\\appdata\\local\\programs\\python\\python312\\lib\\site-packages (2.0.1)\n"
     ]
    }
   ],
   "source": [
    "!pip install findspark"
   ]
  },
  {
   "cell_type": "code",
   "execution_count": 3,
   "metadata": {},
   "outputs": [],
   "source": [
    "import findspark\n",
    "findspark.init()\n",
    "from pyspark.sql import SparkSession\n",
    "spark = SparkSession.builder.master('local[*]').getOrCreate()"
   ]
  },
  {
   "cell_type": "code",
   "execution_count": 4,
   "metadata": {},
   "outputs": [
    {
     "name": "stdout",
     "output_type": "stream",
     "text": [
      "+--------------------+\n",
      "|               hello|\n",
      "+--------------------+\n",
      "|Sucesso total, es...|\n",
      "+--------------------+\n",
      "\n"
     ]
    }
   ],
   "source": [
    "df = spark.sql('''select 'Sucesso total, estamos online!' as hello''')\n",
    "df.show()"
   ]
  },
  {
   "cell_type": "code",
   "execution_count": 5,
   "metadata": {},
   "outputs": [],
   "source": [
    "# Import spark libraries\n",
    "from pyspark.sql import Row, DataFrame\n",
    "from pyspark.sql.types import StringType, StructType, StructField, IntegerType\n",
    "from pyspark.sql.functions import col, expr, lit, substring, concat, concat_ws, when, coalesce\n",
    "from pyspark.sql import functions as F # for more sql functions\n",
    "from functools import reduce"
   ]
  },
  {
   "cell_type": "markdown",
   "metadata": {},
   "source": [
    "## Data Manipulation using Spark"
   ]
  },
  {
   "cell_type": "code",
   "execution_count": 6,
   "metadata": {},
   "outputs": [
    {
     "name": "stdout",
     "output_type": "stream",
     "text": [
      "df.count:  561\n",
      "df.col ct:  6\n",
      "df.columns:  ['Bank Name', 'City', 'ST', 'CERT', 'Acquiring Institution', 'Closing Date']\n"
     ]
    }
   ],
   "source": [
    "path = r'D:\\Documentos\\FIAP - Pos Tech Data Analytics\\Aulas\\Fase 3\\Dados\\banklist.csv'\n",
    "df = spark.read.csv(path, sep= ',', inferSchema=True, header=True)\n",
    "\n",
    "print('df.count: ', df.count())\n",
    "print('df.col ct: ', len(df.columns))\n",
    "print('df.columns: ', df.columns)"
   ]
  },
  {
   "cell_type": "markdown",
   "metadata": {},
   "source": [
    "## Using SQL in PySpark"
   ]
  },
  {
   "cell_type": "code",
   "execution_count": 7,
   "metadata": {},
   "outputs": [
    {
     "name": "stdout",
     "output_type": "stream",
     "text": [
      "+--------------------------------+-------------+------------+\n",
      "|Bank Name                       |City         |Closing Date|\n",
      "+--------------------------------+-------------+------------+\n",
      "|The First State Bank            |Barboursville|3-Apr-20    |\n",
      "|Ericson State Bank              |Ericson      |14-Feb-20   |\n",
      "|City National Bank of New Jersey|Newark       |1-Nov-19    |\n",
      "|Resolute Bank                   |Maumee       |25-Oct-19   |\n",
      "+--------------------------------+-------------+------------+\n",
      "only showing top 4 rows\n",
      "\n"
     ]
    }
   ],
   "source": [
    "df.createOrReplaceTempView('banklist')\n",
    "\n",
    "df_check = spark.sql('''select `Bank Name`, `City`, `Closing Date` FROM banklist''')\n",
    "df_check.show(4, truncate=False)"
   ]
  },
  {
   "cell_type": "markdown",
   "metadata": {},
   "source": [
    "## DataFrame Basic Operations"
   ]
  },
  {
   "cell_type": "code",
   "execution_count": 8,
   "metadata": {},
   "outputs": [
    {
     "name": "stdout",
     "output_type": "stream",
     "text": [
      "+-------+--------------------+-------+----+-----------------+---------------------+------------+\n",
      "|summary|           Bank Name|   City|  ST|             CERT|Acquiring Institution|Closing Date|\n",
      "+-------+--------------------+-------+----+-----------------+---------------------+------------+\n",
      "|  count|                 561|    561| 561|              561|                  561|         561|\n",
      "|   mean|                NULL|   NULL|NULL|31685.68449197861|                 NULL|        NULL|\n",
      "| stddev|                NULL|   NULL|NULL|16446.65659309965|                 NULL|        NULL|\n",
      "|    min|1st American Stat...|Acworth|  AL|               91|      1st United Bank|    1-Aug-08|\n",
      "|    max|               ebank|Wyoming|  WY|            58701|  Your Community Bank|    9-Sep-11|\n",
      "+-------+--------------------+-------+----+-----------------+---------------------+------------+\n",
      "\n"
     ]
    }
   ],
   "source": [
    "df.describe().show()"
   ]
  },
  {
   "cell_type": "code",
   "execution_count": 9,
   "metadata": {},
   "outputs": [
    {
     "name": "stdout",
     "output_type": "stream",
     "text": [
      "+-------+-------+----+\n",
      "|summary|   City|  ST|\n",
      "+-------+-------+----+\n",
      "|  count|    561| 561|\n",
      "|   mean|   NULL|NULL|\n",
      "| stddev|   NULL|NULL|\n",
      "|    min|Acworth|  AL|\n",
      "|    max|Wyoming|  WY|\n",
      "+-------+-------+----+\n",
      "\n"
     ]
    }
   ],
   "source": [
    "df.describe('City', 'ST').show()"
   ]
  },
  {
   "cell_type": "markdown",
   "metadata": {},
   "source": [
    "## Count, Columns and Schema"
   ]
  },
  {
   "cell_type": "code",
   "execution_count": 10,
   "metadata": {},
   "outputs": [
    {
     "name": "stdout",
     "output_type": "stream",
     "text": [
      "df.count:  561\n",
      "df columns:  6\n",
      "df.columns:  ['Bank Name', 'City', 'ST', 'CERT', 'Acquiring Institution', 'Closing Date']\n",
      "df dtypes:  [('Bank Name', 'string'), ('City', 'string'), ('ST', 'string'), ('CERT', 'int'), ('Acquiring Institution', 'string'), ('Closing Date', 'string')]\n",
      "df schema:  StructType([StructField('Bank Name', StringType(), True), StructField('City', StringType(), True), StructField('ST', StringType(), True), StructField('CERT', IntegerType(), True), StructField('Acquiring Institution', StringType(), True), StructField('Closing Date', StringType(), True)])\n"
     ]
    }
   ],
   "source": [
    "print('df.count: ', df.count())\n",
    "print('df columns: ', len(df.columns))\n",
    "print('df.columns: ', df.columns)\n",
    "print('df dtypes: ', df.dtypes)\n",
    "print('df schema: ', df.schema)"
   ]
  },
  {
   "cell_type": "code",
   "execution_count": 11,
   "metadata": {},
   "outputs": [
    {
     "name": "stdout",
     "output_type": "stream",
     "text": [
      "root\n",
      " |-- Bank Name: string (nullable = true)\n",
      " |-- City: string (nullable = true)\n",
      " |-- ST: string (nullable = true)\n",
      " |-- CERT: integer (nullable = true)\n",
      " |-- Acquiring Institution: string (nullable = true)\n",
      " |-- Closing Date: string (nullable = true)\n",
      "\n"
     ]
    }
   ],
   "source": [
    "df.printSchema()"
   ]
  },
  {
   "cell_type": "markdown",
   "metadata": {},
   "source": [
    "## Remove Duplicates"
   ]
  },
  {
   "cell_type": "code",
   "execution_count": 12,
   "metadata": {},
   "outputs": [
    {
     "name": "stdout",
     "output_type": "stream",
     "text": [
      "df.count:  561\n",
      "df.columns:  ['Bank Name', 'City', 'ST', 'CERT', 'Acquiring Institution', 'Closing Date']\n"
     ]
    }
   ],
   "source": [
    "df = df.dropDuplicates()\n",
    "print('df.count: ', df.count())\n",
    "print('df.columns: ', df.columns)"
   ]
  },
  {
   "cell_type": "markdown",
   "metadata": {},
   "source": [
    "## Select Specific Columns"
   ]
  },
  {
   "cell_type": "code",
   "execution_count": 13,
   "metadata": {},
   "outputs": [
    {
     "name": "stdout",
     "output_type": "stream",
     "text": [
      "+--------------------+--------+\n",
      "|           Bank Name|    City|\n",
      "+--------------------+--------+\n",
      "| First Bank of Idaho| Ketchum|\n",
      "|Amcore Bank, Nati...|Rockford|\n",
      "+--------------------+--------+\n",
      "only showing top 2 rows\n",
      "\n"
     ]
    }
   ],
   "source": [
    "df2 = df.select(*['Bank Name', 'City'])\n",
    "df2.show(2)"
   ]
  },
  {
   "cell_type": "markdown",
   "metadata": {},
   "source": [
    "## Select Multiple Columns"
   ]
  },
  {
   "cell_type": "code",
   "execution_count": 14,
   "metadata": {},
   "outputs": [
    {
     "name": "stdout",
     "output_type": "stream",
     "text": [
      "+------------+--------------------+---------------------+--------+\n",
      "|Closing Date|           Bank Name|Acquiring Institution|    City|\n",
      "+------------+--------------------+---------------------+--------+\n",
      "|   24-Apr-09| First Bank of Idaho|      U.S. Bank, N.A.| Ketchum|\n",
      "|   23-Apr-10|Amcore Bank, Nati...|          Harris N.A.|Rockford|\n",
      "|   11-Sep-09|        Venture Bank| First-Citizens Ba...|   Lacey|\n",
      "|   31-Jul-09|First State Bank ...|         Herring Bank|   Altus|\n",
      "|   11-Dec-09|Valley Capital Ba...| Enterprise Bank &...|    Mesa|\n",
      "+------------+--------------------+---------------------+--------+\n",
      "only showing top 5 rows\n",
      "\n"
     ]
    }
   ],
   "source": [
    "col_l = list(set(df.columns) - {'CERT', 'ST'})\n",
    "df2 = df.select(*col_l)\n",
    "df2.show(5)"
   ]
  },
  {
   "cell_type": "markdown",
   "metadata": {},
   "source": [
    "## Rename Columns"
   ]
  },
  {
   "cell_type": "code",
   "execution_count": 15,
   "metadata": {},
   "outputs": [
    {
     "name": "stdout",
     "output_type": "stream",
     "text": [
      "+--------------------+----------------+-----+-----+--------------------+------------+\n",
      "|           bank_name|            city|state| cert|     acq_institution|closing_date|\n",
      "+--------------------+----------------+-----+-----+--------------------+------------+\n",
      "| First Bank of Idaho|         Ketchum|   ID|34396|     U.S. Bank, N.A.|   24-Apr-09|\n",
      "|Amcore Bank, Nati...|        Rockford|   IL| 3735|         Harris N.A.|   23-Apr-10|\n",
      "|        Venture Bank|           Lacey|   WA|22868|First-Citizens Ba...|   11-Sep-09|\n",
      "|First State Bank ...|           Altus|   OK| 9873|        Herring Bank|   31-Jul-09|\n",
      "|Valley Capital Ba...|            Mesa|   AZ|58399|Enterprise Bank &...|   11-Dec-09|\n",
      "|Michigan Heritage...|Farmington Hills|   MI|34369|      Level One Bank|   24-Apr-09|\n",
      "|Columbia Savings ...|      Cincinnati|   OH|32284|United Fidelity B...|   23-May-14|\n",
      "|       Fidelity Bank|        Dearborn|   MI|33883|The Huntington Na...|   30-Mar-12|\n",
      "|The Park Avenue Bank|        Valdosta|   GA|19797|  Bank of the Ozarks|   29-Apr-11|\n",
      "|Western Commercia...|  Woodland Hills|   CA|58087|First California ...|    5-Nov-10|\n",
      "|        Syringa Bank|           Boise|   ID|34296|        Sunwest Bank|   31-Jan-14|\n",
      "|Republic Federal ...|           Miami|   FL|22846|     1st United Bank|   11-Dec-09|\n",
      "|Westside Communit...|University Place|   WA|33997|        Sunwest Bank|   11-Jan-13|\n",
      "|   First United Bank|           Crete|   IL|20685|Old Plank Trail C...|   28-Sep-12|\n",
      "|HarVest Bank of M...|    Gaithersburg|   MD|57766|            Sonabank|   27-Apr-12|\n",
      "|            BankEast|       Knoxville|   TN|19869|     U.S. Bank, N.A.|   27-Jan-12|\n",
      "|    Polk County Bank|        Johnston|   IA|14194| Grinnell State Bank|   18-Nov-11|\n",
      "|Colorado Capital ...|     Castle Rock|   CO|34522|First-Citizens Ba...|    8-Jul-11|\n",
      "|         Access Bank|        Champlin|   MN|16476|           PrinsBank|    7-May-10|\n",
      "|Pacific National ...|   San Francisco|   CA|30006|      U.S. Bank N.A.|   30-Oct-09|\n",
      "+--------------------+----------------+-----+-----+--------------------+------------+\n",
      "only showing top 20 rows\n",
      "\n"
     ]
    }
   ],
   "source": [
    "df2 = df \\\n",
    "    .withColumnRenamed('Bank Name', 'bank_name') \\\n",
    "    .withColumnRenamed('City', 'city') \\\n",
    "    .withColumnRenamed('Acquiring Institution', 'acq_institution') \\\n",
    "    .withColumnRenamed('Closing Date', 'closing_date') \\\n",
    "    .withColumnRenamed('ST', 'state') \\\n",
    "    .withColumnRenamed('CERT', 'cert')\n",
    "\n",
    "df2.show()"
   ]
  },
  {
   "cell_type": "markdown",
   "metadata": {},
   "source": [
    "## Add Columns"
   ]
  },
  {
   "cell_type": "code",
   "execution_count": 16,
   "metadata": {},
   "outputs": [
    {
     "name": "stdout",
     "output_type": "stream",
     "text": [
      "+--------------------+--------+---+-----+---------------------+------------+-----+\n",
      "|           Bank Name|    City| ST| CERT|Acquiring Institution|Closing Date|state|\n",
      "+--------------------+--------+---+-----+---------------------+------------+-----+\n",
      "| First Bank of Idaho| Ketchum| ID|34396|      U.S. Bank, N.A.|   24-Apr-09|   ID|\n",
      "|Amcore Bank, Nati...|Rockford| IL| 3735|          Harris N.A.|   23-Apr-10|   IL|\n",
      "|        Venture Bank|   Lacey| WA|22868| First-Citizens Ba...|   11-Sep-09|   WA|\n",
      "|First State Bank ...|   Altus| OK| 9873|         Herring Bank|   31-Jul-09|   OK|\n",
      "|Valley Capital Ba...|    Mesa| AZ|58399| Enterprise Bank &...|   11-Dec-09|   AZ|\n",
      "+--------------------+--------+---+-----+---------------------+------------+-----+\n",
      "only showing top 5 rows\n",
      "\n"
     ]
    }
   ],
   "source": [
    "df2 = df.withColumn('state', col('ST'))\n",
    "df2.show(5)"
   ]
  },
  {
   "cell_type": "markdown",
   "metadata": {},
   "source": [
    "## Add constant column"
   ]
  },
  {
   "cell_type": "code",
   "execution_count": 17,
   "metadata": {},
   "outputs": [
    {
     "name": "stdout",
     "output_type": "stream",
     "text": [
      "+--------------------+----------------+---+-----+---------------------+------------+-----+-------+\n",
      "|           Bank Name|            City| ST| CERT|Acquiring Institution|Closing Date|state|country|\n",
      "+--------------------+----------------+---+-----+---------------------+------------+-----+-------+\n",
      "| First Bank of Idaho|         Ketchum| ID|34396|      U.S. Bank, N.A.|   24-Apr-09|   ID|     US|\n",
      "|Amcore Bank, Nati...|        Rockford| IL| 3735|          Harris N.A.|   23-Apr-10|   IL|     US|\n",
      "|        Venture Bank|           Lacey| WA|22868| First-Citizens Ba...|   11-Sep-09|   WA|     US|\n",
      "|First State Bank ...|           Altus| OK| 9873|         Herring Bank|   31-Jul-09|   OK|     US|\n",
      "|Valley Capital Ba...|            Mesa| AZ|58399| Enterprise Bank &...|   11-Dec-09|   AZ|     US|\n",
      "|Michigan Heritage...|Farmington Hills| MI|34369|       Level One Bank|   24-Apr-09|   MI|     US|\n",
      "|Columbia Savings ...|      Cincinnati| OH|32284| United Fidelity B...|   23-May-14|   OH|     US|\n",
      "|       Fidelity Bank|        Dearborn| MI|33883| The Huntington Na...|   30-Mar-12|   MI|     US|\n",
      "|The Park Avenue Bank|        Valdosta| GA|19797|   Bank of the Ozarks|   29-Apr-11|   GA|     US|\n",
      "|Western Commercia...|  Woodland Hills| CA|58087| First California ...|    5-Nov-10|   CA|     US|\n",
      "|        Syringa Bank|           Boise| ID|34296|         Sunwest Bank|   31-Jan-14|   ID|     US|\n",
      "|Republic Federal ...|           Miami| FL|22846|      1st United Bank|   11-Dec-09|   FL|     US|\n",
      "|Westside Communit...|University Place| WA|33997|         Sunwest Bank|   11-Jan-13|   WA|     US|\n",
      "|   First United Bank|           Crete| IL|20685| Old Plank Trail C...|   28-Sep-12|   IL|     US|\n",
      "|HarVest Bank of M...|    Gaithersburg| MD|57766|             Sonabank|   27-Apr-12|   MD|     US|\n",
      "|            BankEast|       Knoxville| TN|19869|      U.S. Bank, N.A.|   27-Jan-12|   TN|     US|\n",
      "|    Polk County Bank|        Johnston| IA|14194|  Grinnell State Bank|   18-Nov-11|   IA|     US|\n",
      "|Colorado Capital ...|     Castle Rock| CO|34522| First-Citizens Ba...|    8-Jul-11|   CO|     US|\n",
      "|         Access Bank|        Champlin| MN|16476|            PrinsBank|    7-May-10|   MN|     US|\n",
      "|Pacific National ...|   San Francisco| CA|30006|       U.S. Bank N.A.|   30-Oct-09|   CA|     US|\n",
      "+--------------------+----------------+---+-----+---------------------+------------+-----+-------+\n",
      "only showing top 20 rows\n",
      "\n"
     ]
    }
   ],
   "source": [
    "df2 = df2.withColumn('country', lit('US'))\n",
    "df2.show()"
   ]
  },
  {
   "cell_type": "markdown",
   "metadata": {},
   "source": [
    "## Drop columns"
   ]
  },
  {
   "cell_type": "code",
   "execution_count": 18,
   "metadata": {},
   "outputs": [
    {
     "name": "stdout",
     "output_type": "stream",
     "text": [
      "+--------------------+--------+---+---------------------+------------+-----+-------+\n",
      "|           Bank Name|    City| ST|Acquiring Institution|Closing Date|state|country|\n",
      "+--------------------+--------+---+---------------------+------------+-----+-------+\n",
      "| First Bank of Idaho| Ketchum| ID|      U.S. Bank, N.A.|   24-Apr-09|   ID|     US|\n",
      "|Amcore Bank, Nati...|Rockford| IL|          Harris N.A.|   23-Apr-10|   IL|     US|\n",
      "|        Venture Bank|   Lacey| WA| First-Citizens Ba...|   11-Sep-09|   WA|     US|\n",
      "|First State Bank ...|   Altus| OK|         Herring Bank|   31-Jul-09|   OK|     US|\n",
      "|Valley Capital Ba...|    Mesa| AZ| Enterprise Bank &...|   11-Dec-09|   AZ|     US|\n",
      "+--------------------+--------+---+---------------------+------------+-----+-------+\n",
      "only showing top 5 rows\n",
      "\n"
     ]
    }
   ],
   "source": [
    "df2 = df2.drop('CERT')\n",
    "df2.show(5)"
   ]
  },
  {
   "cell_type": "markdown",
   "metadata": {},
   "source": [
    "## Drop multiple columns"
   ]
  },
  {
   "cell_type": "code",
   "execution_count": 19,
   "metadata": {},
   "outputs": [
    {
     "name": "stdout",
     "output_type": "stream",
     "text": [
      "+--------------------+--------+---------------------+------------+-----+-------+\n",
      "|           Bank Name|    City|Acquiring Institution|Closing Date|state|country|\n",
      "+--------------------+--------+---------------------+------------+-----+-------+\n",
      "| First Bank of Idaho| Ketchum|      U.S. Bank, N.A.|   24-Apr-09|   ID|     US|\n",
      "|Amcore Bank, Nati...|Rockford|          Harris N.A.|   23-Apr-10|   IL|     US|\n",
      "|        Venture Bank|   Lacey| First-Citizens Ba...|   11-Sep-09|   WA|     US|\n",
      "|First State Bank ...|   Altus|         Herring Bank|   31-Jul-09|   OK|     US|\n",
      "|Valley Capital Ba...|    Mesa| Enterprise Bank &...|   11-Dec-09|   AZ|     US|\n",
      "+--------------------+--------+---------------------+------------+-----+-------+\n",
      "only showing top 5 rows\n",
      "\n"
     ]
    }
   ],
   "source": [
    "df2 = df2.drop(*['CERT', 'ST'])\n",
    "df2.show(5)"
   ]
  },
  {
   "cell_type": "code",
   "execution_count": 20,
   "metadata": {},
   "outputs": [
    {
     "name": "stdout",
     "output_type": "stream",
     "text": [
      "+--------------------+--------+---------------------+------------+\n",
      "|           Bank Name|    City|Acquiring Institution|Closing Date|\n",
      "+--------------------+--------+---------------------+------------+\n",
      "| First Bank of Idaho| Ketchum|      U.S. Bank, N.A.|   24-Apr-09|\n",
      "|Amcore Bank, Nati...|Rockford|          Harris N.A.|   23-Apr-10|\n",
      "|        Venture Bank|   Lacey| First-Citizens Ba...|   11-Sep-09|\n",
      "|First State Bank ...|   Altus|         Herring Bank|   31-Jul-09|\n",
      "|Valley Capital Ba...|    Mesa| Enterprise Bank &...|   11-Dec-09|\n",
      "+--------------------+--------+---------------------+------------+\n",
      "only showing top 5 rows\n",
      "\n"
     ]
    }
   ],
   "source": [
    "df2 = reduce(DataFrame.drop, ['CERT', 'ST'], df)\n",
    "df2.show(5)"
   ]
  },
  {
   "cell_type": "markdown",
   "metadata": {},
   "source": [
    "## Filter Data"
   ]
  },
  {
   "cell_type": "code",
   "execution_count": 21,
   "metadata": {},
   "outputs": [
    {
     "name": "stdout",
     "output_type": "stream",
     "text": [
      "df.count:  561\n",
      "df2.count:  4\n",
      "df3.count:  9\n",
      "df4.count:  73\n"
     ]
    }
   ],
   "source": [
    "# equal to values\n",
    "df2 = df.where(df['ST'] == 'NE')\n",
    "\n",
    "# between values\n",
    "df3 = df.where(df['CERT'].between('1000', '2000'))\n",
    "\n",
    "# is inside multiple values\n",
    "df4 = df.where(df['ST'].isin('NE', 'IL'))\n",
    "\n",
    "print('df.count: ', df.count())\n",
    "print('df2.count: ', df2.count())\n",
    "print('df3.count: ', df3.count())\n",
    "print('df4.count: ', df4.count())"
   ]
  },
  {
   "cell_type": "markdown",
   "metadata": {},
   "source": [
    "## Filter data using logical operators"
   ]
  },
  {
   "cell_type": "code",
   "execution_count": 22,
   "metadata": {},
   "outputs": [
    {
     "name": "stdout",
     "output_type": "stream",
     "text": [
      "+------------------+-------+---+-----+---------------------+------------+\n",
      "|         Bank Name|   City| ST| CERT|Acquiring Institution|Closing Date|\n",
      "+------------------+-------+---+-----+---------------------+------------+\n",
      "|Ericson State Bank|Ericson| NE|18265| Farmers and Merch...|   14-Feb-20|\n",
      "+------------------+-------+---+-----+---------------------+------------+\n",
      "\n"
     ]
    }
   ],
   "source": [
    "df2 = df.where((df['ST'] == 'NE') & (df['City'] == 'Ericson'))\n",
    "df2.show()"
   ]
  },
  {
   "cell_type": "markdown",
   "metadata": {},
   "source": [
    "## Replace values in DataFrame"
   ]
  },
  {
   "cell_type": "code",
   "execution_count": 23,
   "metadata": {},
   "outputs": [
    {
     "name": "stdout",
     "output_type": "stream",
     "text": [
      "+--------------------+--------+---+-----+---------------------+------------+\n",
      "|           Bank Name|    City| ST| CERT|Acquiring Institution|Closing Date|\n",
      "+--------------------+--------+---+-----+---------------------+------------+\n",
      "| First Bank of Idaho| Ketchum| ID|34396|      U.S. Bank, N.A.|   24-Apr-09|\n",
      "|Amcore Bank, Nati...|Rockford| IL| 3735|          Harris N.A.|   23-Apr-10|\n",
      "+--------------------+--------+---+-----+---------------------+------------+\n",
      "only showing top 2 rows\n",
      "\n",
      "replace 7 in the above dataframe with 17 at all instances\n",
      "+--------------------+--------+---+-----+---------------------+------------+\n",
      "|           Bank Name|    City| ST| CERT|Acquiring Institution|Closing Date|\n",
      "+--------------------+--------+---+-----+---------------------+------------+\n",
      "| First Bank of Idaho| Ketchum| ID|34396|      U.S. Bank, N.A.|   24-Apr-09|\n",
      "|Amcore Bank, Nati...|Rockford| IL| 3735|          Harris N.A.|   23-Apr-10|\n",
      "+--------------------+--------+---+-----+---------------------+------------+\n",
      "only showing top 2 rows\n",
      "\n"
     ]
    }
   ],
   "source": [
    "# pre replace\n",
    "df.show(2)\n",
    "# pos replace\n",
    "print('replace 7 in the above dataframe with 17 at all instances')\n",
    "df.na.replace(7, 17).show(2)"
   ]
  },
  {
   "cell_type": "markdown",
   "metadata": {},
   "source": [
    "## Mão na massa"
   ]
  },
  {
   "cell_type": "code",
   "execution_count": 24,
   "metadata": {},
   "outputs": [
    {
     "name": "stderr",
     "output_type": "stream",
     "text": [
      "'sudo' n�o � reconhecido como um comando interno\n",
      "ou externo, um programa oper�vel ou um arquivo em lotes.\n",
      "O sistema n�o pode encontrar o caminho especificado.\n",
      "'wget' n�o � reconhecido como um comando interno\n",
      "ou externo, um programa oper�vel ou um arquivo em lotes.\n",
      "tar: Error opening archive: Failed to open 'spark-3.2.1-bin-hadoop3.2.tgz'\n"
     ]
    },
    {
     "name": "stdout",
     "output_type": "stream",
     "text": [
      "Requirement already satisfied: pyspark in c:\\users\\igor\\appdata\\local\\programs\\python\\python312\\lib\\site-packages (3.5.1)\n",
      "Requirement already satisfied: py4j==0.10.9.7 in c:\\users\\igor\\appdata\\local\\programs\\python\\python312\\lib\\site-packages (from pyspark) (0.10.9.7)\n",
      "Requirement already satisfied: py4j in c:\\users\\igor\\appdata\\local\\programs\\python\\python312\\lib\\site-packages (0.10.9.7)\n"
     ]
    },
    {
     "data": {
      "text/html": [
       "\n",
       "            <div>\n",
       "                <p><b>SparkSession - in-memory</b></p>\n",
       "                \n",
       "        <div>\n",
       "            <p><b>SparkContext</b></p>\n",
       "\n",
       "            <p><a href=\"http://host.docker.internal:4040\">Spark UI</a></p>\n",
       "\n",
       "            <dl>\n",
       "              <dt>Version</dt>\n",
       "                <dd><code>v3.5.1</code></dd>\n",
       "              <dt>Master</dt>\n",
       "                <dd><code>local[*]</code></dd>\n",
       "              <dt>AppName</dt>\n",
       "                <dd><code>pyspark-shell</code></dd>\n",
       "            </dl>\n",
       "        </div>\n",
       "        \n",
       "            </div>\n",
       "        "
      ],
      "text/plain": [
       "<pyspark.sql.session.SparkSession at 0x1bd7f7b69f0>"
      ]
     },
     "execution_count": 24,
     "metadata": {},
     "output_type": "execute_result"
    }
   ],
   "source": [
    "!sudo apt update\n",
    "!apt-get install openjdk-8-jdk-headless -qq > /dev/null\n",
    "#Check this site for the latest download link https://www.apache.org/dyn/closer.lua/spark/spark-3.2.1/spark-3.2.1-bin-hadoop3.2.tgz\n",
    "!wget -q https://dlcdn.apache.org/spark/spark-3.2.1/spark-3.2.1-bin-hadoop3.2.tgz\n",
    "!tar xf spark-3.2.1-bin-hadoop3.2.tgz\n",
    "!pip install -q findspark\n",
    "!pip install pyspark\n",
    "!pip install py4j\n",
    "\n",
    "import os\n",
    "import sys\n",
    "# os.environ[\"JAVA_HOME\"] = \"/usr/lib/jvm/java-8-openjdk-amd64\"\n",
    "# os.environ[\"SPARK_HOME\"] = \"/content/spark-3.2.1-bin-hadoop3.2\"\n",
    "\n",
    "import findspark\n",
    "findspark.init()\n",
    "findspark.find()\n",
    "\n",
    "import pyspark\n",
    "\n",
    "from pyspark.sql import DataFrame, SparkSession\n",
    "from typing import List\n",
    "import pyspark.sql.types as T\n",
    "import pyspark.sql.functions as F\n",
    "\n",
    "spark= SparkSession .builder.appName(\"Our First Spark Example\").getOrCreate()\n",
    "\n",
    "spark"
   ]
  },
  {
   "cell_type": "code",
   "execution_count": 25,
   "metadata": {},
   "outputs": [],
   "source": [
    "import requests\n",
    "path = \"https://raw.githubusercontent.com/owid/covid-19-data/master/public/data/owid-covid-data.csv\"\n",
    "req = requests.get(path)\n",
    "url_content = req.content"
   ]
  },
  {
   "cell_type": "code",
   "execution_count": 26,
   "metadata": {},
   "outputs": [],
   "source": [
    "csv_file_name = 'owid-covid-data.csv'\n",
    "csv_file = open(csv_file_name, 'wb')\n",
    "\n",
    "csv_file.write(url_content)\n",
    "csv_file.close()\n",
    "\n",
    "df = spark.read.csv(csv_file_name, header=True, inferSchema=True)"
   ]
  },
  {
   "cell_type": "code",
   "execution_count": 27,
   "metadata": {},
   "outputs": [
    {
     "name": "stdout",
     "output_type": "stream",
     "text": [
      "root\n",
      " |-- iso_code: string (nullable = true)\n",
      " |-- continent: string (nullable = true)\n",
      " |-- location: string (nullable = true)\n",
      " |-- date: date (nullable = true)\n",
      " |-- total_cases: integer (nullable = true)\n",
      " |-- new_cases: integer (nullable = true)\n",
      " |-- new_cases_smoothed: double (nullable = true)\n",
      " |-- total_deaths: integer (nullable = true)\n",
      " |-- new_deaths: integer (nullable = true)\n",
      " |-- new_deaths_smoothed: double (nullable = true)\n",
      " |-- total_cases_per_million: double (nullable = true)\n",
      " |-- new_cases_per_million: double (nullable = true)\n",
      " |-- new_cases_smoothed_per_million: double (nullable = true)\n",
      " |-- total_deaths_per_million: double (nullable = true)\n",
      " |-- new_deaths_per_million: double (nullable = true)\n",
      " |-- new_deaths_smoothed_per_million: double (nullable = true)\n",
      " |-- reproduction_rate: double (nullable = true)\n",
      " |-- icu_patients: integer (nullable = true)\n",
      " |-- icu_patients_per_million: double (nullable = true)\n",
      " |-- hosp_patients: integer (nullable = true)\n",
      " |-- hosp_patients_per_million: double (nullable = true)\n",
      " |-- weekly_icu_admissions: integer (nullable = true)\n",
      " |-- weekly_icu_admissions_per_million: double (nullable = true)\n",
      " |-- weekly_hosp_admissions: integer (nullable = true)\n",
      " |-- weekly_hosp_admissions_per_million: double (nullable = true)\n",
      " |-- total_tests: long (nullable = true)\n",
      " |-- new_tests: integer (nullable = true)\n",
      " |-- total_tests_per_thousand: double (nullable = true)\n",
      " |-- new_tests_per_thousand: double (nullable = true)\n",
      " |-- new_tests_smoothed: double (nullable = true)\n",
      " |-- new_tests_smoothed_per_thousand: double (nullable = true)\n",
      " |-- positive_rate: double (nullable = true)\n",
      " |-- tests_per_case: double (nullable = true)\n",
      " |-- tests_units: string (nullable = true)\n",
      " |-- total_vaccinations: long (nullable = true)\n",
      " |-- people_vaccinated: long (nullable = true)\n",
      " |-- people_fully_vaccinated: long (nullable = true)\n",
      " |-- total_boosters: long (nullable = true)\n",
      " |-- new_vaccinations: integer (nullable = true)\n",
      " |-- new_vaccinations_smoothed: double (nullable = true)\n",
      " |-- total_vaccinations_per_hundred: double (nullable = true)\n",
      " |-- people_vaccinated_per_hundred: double (nullable = true)\n",
      " |-- people_fully_vaccinated_per_hundred: double (nullable = true)\n",
      " |-- total_boosters_per_hundred: double (nullable = true)\n",
      " |-- new_vaccinations_smoothed_per_million: double (nullable = true)\n",
      " |-- new_people_vaccinated_smoothed: double (nullable = true)\n",
      " |-- new_people_vaccinated_smoothed_per_hundred: double (nullable = true)\n",
      " |-- stringency_index: double (nullable = true)\n",
      " |-- population_density: double (nullable = true)\n",
      " |-- median_age: double (nullable = true)\n",
      " |-- aged_65_older: double (nullable = true)\n",
      " |-- aged_70_older: double (nullable = true)\n",
      " |-- gdp_per_capita: double (nullable = true)\n",
      " |-- extreme_poverty: double (nullable = true)\n",
      " |-- cardiovasc_death_rate: double (nullable = true)\n",
      " |-- diabetes_prevalence: double (nullable = true)\n",
      " |-- female_smokers: double (nullable = true)\n",
      " |-- male_smokers: double (nullable = true)\n",
      " |-- handwashing_facilities: double (nullable = true)\n",
      " |-- hospital_beds_per_thousand: double (nullable = true)\n",
      " |-- life_expectancy: double (nullable = true)\n",
      " |-- human_development_index: double (nullable = true)\n",
      " |-- population: long (nullable = true)\n",
      " |-- excess_mortality_cumulative_absolute: double (nullable = true)\n",
      " |-- excess_mortality_cumulative: double (nullable = true)\n",
      " |-- excess_mortality: double (nullable = true)\n",
      " |-- excess_mortality_cumulative_per_million: double (nullable = true)\n",
      "\n"
     ]
    }
   ],
   "source": [
    "#Viewing the dataframe schema \n",
    "df.printSchema()"
   ]
  },
  {
   "cell_type": "code",
   "execution_count": 28,
   "metadata": {},
   "outputs": [
    {
     "data": {
      "text/plain": [
       "DataFrame[date: date]"
      ]
     },
     "execution_count": 28,
     "metadata": {},
     "output_type": "execute_result"
    }
   ],
   "source": [
    "#Converting a date column\n",
    "df.select(F.to_date(df.date).alias('date'))"
   ]
  },
  {
   "cell_type": "code",
   "execution_count": 29,
   "metadata": {},
   "outputs": [
    {
     "name": "stdout",
     "output_type": "stream",
     "text": [
      "+-------+--------+-------------+-----------+------------------+------------------+------------------+-----------------+------------------+-------------------+-----------------------+---------------------+------------------------------+------------------------+----------------------+-------------------------------+------------------+------------------+------------------------+------------------+-------------------------+---------------------+---------------------------------+----------------------+----------------------------------+-------------------+------------------+------------------------+----------------------+------------------+-------------------------------+-------------------+-----------------+-------------+--------------------+-------------------+-----------------------+--------------------+------------------+-------------------------+------------------------------+-----------------------------+-----------------------------------+--------------------------+-------------------------------------+------------------------------+------------------------------------------+------------------+------------------+-----------------+------------------+-----------------+------------------+-----------------+---------------------+-------------------+------------------+------------------+----------------------+--------------------------+-----------------+-----------------------+-------------------+------------------------------------+---------------------------+------------------+---------------------------------------+\n",
      "|summary|iso_code|    continent|   location|       total_cases|         new_cases|new_cases_smoothed|     total_deaths|        new_deaths|new_deaths_smoothed|total_cases_per_million|new_cases_per_million|new_cases_smoothed_per_million|total_deaths_per_million|new_deaths_per_million|new_deaths_smoothed_per_million| reproduction_rate|      icu_patients|icu_patients_per_million|     hosp_patients|hosp_patients_per_million|weekly_icu_admissions|weekly_icu_admissions_per_million|weekly_hosp_admissions|weekly_hosp_admissions_per_million|        total_tests|         new_tests|total_tests_per_thousand|new_tests_per_thousand|new_tests_smoothed|new_tests_smoothed_per_thousand|      positive_rate|   tests_per_case|  tests_units|  total_vaccinations|  people_vaccinated|people_fully_vaccinated|      total_boosters|  new_vaccinations|new_vaccinations_smoothed|total_vaccinations_per_hundred|people_vaccinated_per_hundred|people_fully_vaccinated_per_hundred|total_boosters_per_hundred|new_vaccinations_smoothed_per_million|new_people_vaccinated_smoothed|new_people_vaccinated_smoothed_per_hundred|  stringency_index|population_density|       median_age|     aged_65_older|    aged_70_older|    gdp_per_capita|  extreme_poverty|cardiovasc_death_rate|diabetes_prevalence|    female_smokers|      male_smokers|handwashing_facilities|hospital_beds_per_thousand|  life_expectancy|human_development_index|         population|excess_mortality_cumulative_absolute|excess_mortality_cumulative|  excess_mortality|excess_mortality_cumulative_per_million|\n",
      "+-------+--------+-------------+-----------+------------------+------------------+------------------+-----------------+------------------+-------------------+-----------------------+---------------------+------------------------------+------------------------+----------------------+-------------------------------+------------------+------------------+------------------------+------------------+-------------------------+---------------------+---------------------------------+----------------------+----------------------------------+-------------------+------------------+------------------------+----------------------+------------------+-------------------------------+-------------------+-----------------+-------------+--------------------+-------------------+-----------------------+--------------------+------------------+-------------------------+------------------------------+-----------------------------+-----------------------------------+--------------------------+-------------------------------------+------------------------------+------------------------------------------+------------------+------------------+-----------------+------------------+-----------------+------------------+-----------------+---------------------+-------------------+------------------+------------------+----------------------+--------------------------+-----------------+-----------------------+-------------------+------------------------------------+---------------------------+------------------+---------------------------------------+\n",
      "|  count|  424794|       398446|     424794|            406700|            405094|            403869|           406700|            405544|             404319|                 406700|               405094|                        403869|                  406700|                405544|                         404319|            184817|             39096|                   39096|             40636|                    40636|                10979|                            10979|                 24483|                             24483|              79387|             75403|                   79387|                 75403|            103965|                         103965|              95927|            94348|       106788|               85322|              81038|                  77968|               53506|             70884|                   194905|                         85322|                        81038|                              77968|                     53506|                               194905|                        192067|                                    192067|            196190|            357547|           331942|            320633|           328622|            325613|           210275|               326186|             343078|            245158|            241838|                160411|                    288318|           387116|                 316518|             424794|                               13411|                      13411|             13411|                                  13411|\n",
      "|   mean|    NULL|         NULL|       NULL| 7344549.582537496|8116.0502080998485| 8140.305241080657|81264.35137693632| 72.72574862407039|  72.94060546251794|     111316.43424396389|   123.83565750171554|            124.19177725945558|       833.5592759773864|    0.7744795139368366|             0.7767217469374398|0.9114953710968147| 661.2990331491712|      15.664122672396157|3913.3094054532926|       126.04345555664905|   318.26322980234994|                9.683414700792415|     4294.129600130703|                 82.66362496426089|2.110457393801252E7| 67285.41211888121|       924.2547520374869|    3.2724606448019284| 142178.3636993219|             2.8263640648295065|0.09807895587268832| 2403.63280726672|         NULL|  5.58673699931905E8|2.474300752949974E8|   2.2743930591143802E8|1.4963424900990543E8| 740771.4771457593|        284056.0875606064|            124.20314866036951|            53.47820738419036|                 48.654953955469075|         36.28067431689909|                   1852.6358533644595|            106131.44537062588|                       0.07472116501011986| 42.87756032417615| 394.3984598947914|30.45776882708359| 8.684750290830621|5.487149947355617|18906.725906216285|13.92372702413547|   264.63117022188777|   8.55589215863328| 10.77322167744781| 33.09930507199225|    50.649019518608064|        3.1070764225613097|73.70286795172292|     0.7221916920995739|1.527248538718673E8|                   56046.46266273955|          9.765991350384017|10.924583550816493|                     1772.6189635373946|\n",
      "| stddev|    NULL|         NULL|       NULL|4.46445028847367E7|231094.36491538855| 87152.41200063023|440756.8499430467|1376.8108640185246|  516.7773345476439|      161416.7943190183|    1512.700244332592|             560.9520284602901|      1131.8827873556486|     7.046239768529086|             2.5684194923286188|0.3999249955670582|2140.1136324660615|      22.788715594624534| 9847.897084552491|        151.1719327996126|    514.6350458276712|                13.57840924486211|    10922.279673193088|                 88.40021972699736|8.409869431109463E7|247734.00456983913|      2195.4284900423627|      9.03382566842094|1138214.6555840871|              7.308224750925726|0.11609736423215998|33443.66067673282|         NULL|1.8357917746155667E9|7.981030767356293E8|    7.379275379617655E8| 4.343978216074927E8|3184911.7367047723|       1922950.0288453684|             85.10945798774821|           29.387803999719743|                 29.049386284189797|        30.232734927856406|                    3118.481659109488|             786909.5350046217|                       0.17640592813809267|24.870492159098106|1787.3891504075564|9.094030622372168|6.0935042255012375| 4.13662657704578| 19832.09347175913|20.07236133950192|   120.75148898163522|  4.934485142035261|10.761141424737987|13.855311597359572|     31.90352227384774|        2.5491208023496856|7.387681589088204|     0.1492349091688888|6.993575023444093E8|                  156869.08630706544|         12.039680815157528| 24.56051834516591|                     1991.8693802713856|\n",
      "|    min|     ABW|       Africa|Afghanistan|                 0|                 0|               0.0|                0|                 0|                0.0|                    0.0|                  0.0|                           0.0|                     0.0|                   0.0|                            0.0|             -0.07|                 0|                     0.0|                 0|                      0.0|                    0|                              0.0|                     0|                               0.0|                  0|                 1|                     0.0|                   0.0|               0.0|                            0.0|                0.0|              1.0|people tested|                   0|                  0|                      1|                   1|                 0|                      0.0|                           0.0|                          0.0|                                0.0|                       0.0|                                  0.0|                           0.0|                                       0.0|               0.0|              0.14|             15.1|              1.14|             0.53|            661.24|              0.1|                79.37|               0.99|               0.1|               7.7|                  1.19|                       0.1|            53.28|                   0.39|                 47|                            -37726.1|                     -44.23|            -95.92|                               -2936.45|\n",
      "|    max|     ZWE|South America|   Zimbabwe|         775730930|          44236227|         6319461.0|          7054878|            103719|            14817.0|              752614.75|            242321.86|                      34623.04|                 6524.73|                893.24|                         127.62|              5.87|             28891|                  180.68|            154497|                  1526.85|                 4838|                           224.98|                153977|                            717.08|         9214000000|          35855632|                32925.83|                531.06|       1.4769984E7|                          147.6|                1.0|        1023631.9|units unclear|         13578755877|         5631263642|             5177942890|          2817362992|          49673198|              4.3691814E7|                        410.23|                       129.07|                             126.89|                    150.47|                             117113.0|                   2.1071266E7|                                     11.71|             100.0|          20546.77|             48.2|             27.05|            18.49|          116935.6|             77.6|               724.42|              30.53|              44.0|              78.1|                 100.0|                      13.8|            86.75|                   0.96|         7975105024|                           1349776.4|                      78.08|            378.22|                               10293.52|\n",
      "+-------+--------+-------------+-----------+------------------+------------------+------------------+-----------------+------------------+-------------------+-----------------------+---------------------+------------------------------+------------------------+----------------------+-------------------------------+------------------+------------------+------------------------+------------------+-------------------------+---------------------+---------------------------------+----------------------+----------------------------------+-------------------+------------------+------------------------+----------------------+------------------+-------------------------------+-------------------+-----------------+-------------+--------------------+-------------------+-----------------------+--------------------+------------------+-------------------------+------------------------------+-----------------------------+-----------------------------------+--------------------------+-------------------------------------+------------------------------+------------------------------------------+------------------+------------------+-----------------+------------------+-----------------+------------------+-----------------+---------------------+-------------------+------------------+------------------+----------------------+--------------------------+-----------------+-----------------------+-------------------+------------------------------------+---------------------------+------------------+---------------------------------------+\n",
      "\n"
     ]
    }
   ],
   "source": [
    "#Summary stats\n",
    "df.describe().show()"
   ]
  },
  {
   "cell_type": "code",
   "execution_count": 30,
   "metadata": {},
   "outputs": [
    {
     "name": "stdout",
     "output_type": "stream",
     "text": [
      "+-----------------------------+--------------+\n",
      "|location                     |sum(new_cases)|\n",
      "+-----------------------------+--------------+\n",
      "|World                        |775800417     |\n",
      "|High-income countries        |428935387     |\n",
      "|Asia                         |301554088     |\n",
      "|Europe                       |252798408     |\n",
      "|Upper-middle-income countries|251736497     |\n",
      "|European Union (27)          |185732052     |\n",
      "|North America                |124485384     |\n",
      "|United States                |103436829     |\n",
      "|China                        |99369029      |\n",
      "|Lower-middle-income countries|92013076      |\n",
      "|South America                |68820742      |\n",
      "|India                        |45041192      |\n",
      "|France                       |38997490      |\n",
      "|Germany                      |38437756      |\n",
      "|Brazil                       |37511921      |\n",
      "|South Korea                  |34571873      |\n",
      "|Japan                        |33803572      |\n",
      "|Italy                        |26727644      |\n",
      "|United Kingdom               |24964791      |\n",
      "|Russia                       |24254803      |\n",
      "+-----------------------------+--------------+\n",
      "only showing top 20 rows\n",
      "\n"
     ]
    }
   ],
   "source": [
    "#Simple Group by Function\n",
    "df.groupBy(\"location\").sum(\"new_cases\").orderBy(F.desc(\"sum(new_cases)\")).show(truncate=False)"
   ]
  }
 ],
 "metadata": {
  "kernelspec": {
   "display_name": "Python 3",
   "language": "python",
   "name": "python3"
  },
  "language_info": {
   "codemirror_mode": {
    "name": "ipython",
    "version": 3
   },
   "file_extension": ".py",
   "mimetype": "text/x-python",
   "name": "python",
   "nbconvert_exporter": "python",
   "pygments_lexer": "ipython3",
   "version": "3.12.2"
  }
 },
 "nbformat": 4,
 "nbformat_minor": 2
}
