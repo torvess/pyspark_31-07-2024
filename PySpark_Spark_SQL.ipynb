{
 "cells": [
  {
   "cell_type": "code",
   "execution_count": 37,
   "metadata": {},
   "outputs": [],
   "source": [
    "import pyspark\n",
    "from pyspark.sql import SparkSession\n",
    "spark = SparkSession.builder.master('local[*]').getOrCreate()"
   ]
  },
  {
   "cell_type": "markdown",
   "metadata": {},
   "source": [
    "# Consultas e seleções"
   ]
  },
  {
   "cell_type": "code",
   "execution_count": 38,
   "metadata": {},
   "outputs": [
    {
     "name": "stdout",
     "output_type": "stream",
     "text": [
      "+------+\n",
      "|Status|\n",
      "+------+\n",
      "|    ok|\n",
      "+------+\n",
      "\n"
     ]
    }
   ],
   "source": [
    "df = spark.sql('''select 'ok' as Status''')\n",
    "df.show()"
   ]
  },
  {
   "cell_type": "markdown",
   "metadata": {},
   "source": [
    "# Importing Data"
   ]
  },
  {
   "cell_type": "code",
   "execution_count": 39,
   "metadata": {},
   "outputs": [
    {
     "name": "stdout",
     "output_type": "stream",
     "text": [
      "+--------------------+---+----+--------+-------+---+------+-----+-----+------+------+--------+-----+------+----+---------+\n",
      "|                name|mfr|type|calories|protein|fat|sodium|fiber|carbo|sugars|potass|vitamins|shelf|weight|cups|   rating|\n",
      "+--------------------+---+----+--------+-------+---+------+-----+-----+------+------+--------+-----+------+----+---------+\n",
      "|           100% Bran|  N|   C|      70|      4|  1|   130| 10.0|  5.0|     6|   280|      25|    3|   1.0|0.33|68.402973|\n",
      "|   100% Natural Bran|  Q|   C|     120|      3|  5|    15|  2.0|  8.0|     8|   135|       0|    3|   1.0| 1.0|33.983679|\n",
      "|            All-Bran|  K|   C|      70|      4|  1|   260|  9.0|  7.0|     5|   320|      25|    3|   1.0|0.33|59.425505|\n",
      "|All-Bran with Ext...|  K|   C|      50|      4|  0|   140| 14.0|  8.0|     0|   330|      25|    3|   1.0| 0.5|93.704912|\n",
      "|      Almond Delight|  R|   C|     110|      2|  2|   200|  1.0| 14.0|     8|    -1|      25|    3|   1.0|0.75|34.384843|\n",
      "|Apple Cinnamon Ch...|  G|   C|     110|      2|  2|   180|  1.5| 10.5|    10|    70|      25|    1|   1.0|0.75|29.509541|\n",
      "|         Apple Jacks|  K|   C|     110|      2|  0|   125|  1.0| 11.0|    14|    30|      25|    2|   1.0| 1.0|33.174094|\n",
      "|             Basic 4|  G|   C|     130|      3|  2|   210|  2.0| 18.0|     8|   100|      25|    3|  1.33|0.75|37.038562|\n",
      "|           Bran Chex|  R|   C|      90|      2|  1|   200|  4.0| 15.0|     6|   125|      25|    1|   1.0|0.67|49.120253|\n",
      "|         Bran Flakes|  P|   C|      90|      3|  0|   210|  5.0| 13.0|     5|   190|      25|    3|   1.0|0.67|53.313813|\n",
      "|        Cap'n'Crunch|  Q|   C|     120|      1|  2|   220|  0.0| 12.0|    12|    35|      25|    2|   1.0|0.75|18.042851|\n",
      "|            Cheerios|  G|   C|     110|      6|  2|   290|  2.0| 17.0|     1|   105|      25|    1|   1.0|1.25|50.764999|\n",
      "|Cinnamon Toast Cr...|  G|   C|     120|      1|  3|   210|  0.0| 13.0|     9|    45|      25|    2|   1.0|0.75|19.823573|\n",
      "|            Clusters|  G|   C|     110|      3|  2|   140|  2.0| 13.0|     7|   105|      25|    3|   1.0| 0.5|40.400208|\n",
      "|         Cocoa Puffs|  G|   C|     110|      1|  1|   180|  0.0| 12.0|    13|    55|      25|    2|   1.0| 1.0|22.736446|\n",
      "|           Corn Chex|  R|   C|     110|      2|  0|   280|  0.0| 22.0|     3|    25|      25|    1|   1.0| 1.0|41.445019|\n",
      "|         Corn Flakes|  K|   C|     100|      2|  0|   290|  1.0| 21.0|     2|    35|      25|    1|   1.0| 1.0|45.863324|\n",
      "|           Corn Pops|  K|   C|     110|      1|  0|    90|  1.0| 13.0|    12|    20|      25|    2|   1.0| 1.0|35.782791|\n",
      "|       Count Chocula|  G|   C|     110|      1|  1|   180|  0.0| 12.0|    13|    65|      25|    2|   1.0| 1.0|22.396513|\n",
      "|  Cracklin' Oat Bran|  K|   C|     110|      3|  3|   140|  4.0| 10.0|     7|   160|      25|    3|   1.0| 0.5|40.448772|\n",
      "+--------------------+---+----+--------+-------+---+------+-----+-----+------+------+--------+-----+------+----+---------+\n",
      "only showing top 20 rows\n",
      "\n"
     ]
    }
   ],
   "source": [
    "df = spark.read.csv(r'Dados\\cereal.csv', sep=',', inferSchema=True, header=True)\n",
    "df.show()"
   ]
  },
  {
   "cell_type": "markdown",
   "metadata": {},
   "source": [
    " # Manipulation Data with Spark SQL"
   ]
  },
  {
   "cell_type": "code",
   "execution_count": 40,
   "metadata": {},
   "outputs": [],
   "source": [
    "df.createOrReplaceTempView('cereal')"
   ]
  },
  {
   "cell_type": "code",
   "execution_count": 41,
   "metadata": {},
   "outputs": [
    {
     "name": "stdout",
     "output_type": "stream",
     "text": [
      "+--------------------+---+----+--------+-------+---+------+-----+-----+------+------+--------+-----+------+----+---------+\n",
      "|                name|mfr|type|calories|protein|fat|sodium|fiber|carbo|sugars|potass|vitamins|shelf|weight|cups|   rating|\n",
      "+--------------------+---+----+--------+-------+---+------+-----+-----+------+------+--------+-----+------+----+---------+\n",
      "|           100% Bran|  N|   C|      70|      4|  1|   130| 10.0|  5.0|     6|   280|      25|    3|   1.0|0.33|68.402973|\n",
      "|   100% Natural Bran|  Q|   C|     120|      3|  5|    15|  2.0|  8.0|     8|   135|       0|    3|   1.0| 1.0|33.983679|\n",
      "|            All-Bran|  K|   C|      70|      4|  1|   260|  9.0|  7.0|     5|   320|      25|    3|   1.0|0.33|59.425505|\n",
      "|All-Bran with Ext...|  K|   C|      50|      4|  0|   140| 14.0|  8.0|     0|   330|      25|    3|   1.0| 0.5|93.704912|\n",
      "|      Almond Delight|  R|   C|     110|      2|  2|   200|  1.0| 14.0|     8|    -1|      25|    3|   1.0|0.75|34.384843|\n",
      "|Apple Cinnamon Ch...|  G|   C|     110|      2|  2|   180|  1.5| 10.5|    10|    70|      25|    1|   1.0|0.75|29.509541|\n",
      "|         Apple Jacks|  K|   C|     110|      2|  0|   125|  1.0| 11.0|    14|    30|      25|    2|   1.0| 1.0|33.174094|\n",
      "|             Basic 4|  G|   C|     130|      3|  2|   210|  2.0| 18.0|     8|   100|      25|    3|  1.33|0.75|37.038562|\n",
      "|           Bran Chex|  R|   C|      90|      2|  1|   200|  4.0| 15.0|     6|   125|      25|    1|   1.0|0.67|49.120253|\n",
      "|         Bran Flakes|  P|   C|      90|      3|  0|   210|  5.0| 13.0|     5|   190|      25|    3|   1.0|0.67|53.313813|\n",
      "|        Cap'n'Crunch|  Q|   C|     120|      1|  2|   220|  0.0| 12.0|    12|    35|      25|    2|   1.0|0.75|18.042851|\n",
      "|            Cheerios|  G|   C|     110|      6|  2|   290|  2.0| 17.0|     1|   105|      25|    1|   1.0|1.25|50.764999|\n",
      "|Cinnamon Toast Cr...|  G|   C|     120|      1|  3|   210|  0.0| 13.0|     9|    45|      25|    2|   1.0|0.75|19.823573|\n",
      "|            Clusters|  G|   C|     110|      3|  2|   140|  2.0| 13.0|     7|   105|      25|    3|   1.0| 0.5|40.400208|\n",
      "|         Cocoa Puffs|  G|   C|     110|      1|  1|   180|  0.0| 12.0|    13|    55|      25|    2|   1.0| 1.0|22.736446|\n",
      "|           Corn Chex|  R|   C|     110|      2|  0|   280|  0.0| 22.0|     3|    25|      25|    1|   1.0| 1.0|41.445019|\n",
      "|         Corn Flakes|  K|   C|     100|      2|  0|   290|  1.0| 21.0|     2|    35|      25|    1|   1.0| 1.0|45.863324|\n",
      "|           Corn Pops|  K|   C|     110|      1|  0|    90|  1.0| 13.0|    12|    20|      25|    2|   1.0| 1.0|35.782791|\n",
      "|       Count Chocula|  G|   C|     110|      1|  1|   180|  0.0| 12.0|    13|    65|      25|    2|   1.0| 1.0|22.396513|\n",
      "|  Cracklin' Oat Bran|  K|   C|     110|      3|  3|   140|  4.0| 10.0|     7|   160|      25|    3|   1.0| 0.5|40.448772|\n",
      "+--------------------+---+----+--------+-------+---+------+-----+-----+------+------+--------+-----+------+----+---------+\n",
      "only showing top 20 rows\n",
      "\n"
     ]
    }
   ],
   "source": [
    "cereal = spark.sql('''SELECT * FROM cereal WHERE type = 'C' ''')\n",
    "cereal.show()"
   ]
  },
  {
   "cell_type": "markdown",
   "metadata": {},
   "source": [
    "# Select Distinct no Spark SQL"
   ]
  },
  {
   "cell_type": "code",
   "execution_count": 42,
   "metadata": {},
   "outputs": [
    {
     "name": "stdout",
     "output_type": "stream",
     "text": [
      "root\n",
      " |-- name: string (nullable = true)\n",
      " |-- mfr: string (nullable = true)\n",
      " |-- type: string (nullable = true)\n",
      " |-- calories: integer (nullable = true)\n",
      " |-- protein: integer (nullable = true)\n",
      " |-- fat: integer (nullable = true)\n",
      " |-- sodium: integer (nullable = true)\n",
      " |-- fiber: double (nullable = true)\n",
      " |-- carbo: double (nullable = true)\n",
      " |-- sugars: integer (nullable = true)\n",
      " |-- potass: integer (nullable = true)\n",
      " |-- vitamins: integer (nullable = true)\n",
      " |-- shelf: integer (nullable = true)\n",
      " |-- weight: double (nullable = true)\n",
      " |-- cups: double (nullable = true)\n",
      " |-- rating: double (nullable = true)\n",
      "\n"
     ]
    }
   ],
   "source": [
    "df.printSchema()"
   ]
  },
  {
   "cell_type": "code",
   "execution_count": 43,
   "metadata": {},
   "outputs": [],
   "source": [
    "df.createOrReplaceTempView('cereal')"
   ]
  },
  {
   "cell_type": "code",
   "execution_count": 44,
   "metadata": {},
   "outputs": [
    {
     "name": "stdout",
     "output_type": "stream",
     "text": [
      "+----+---+\n",
      "|type|mfr|\n",
      "+----+---+\n",
      "|   C|  P|\n",
      "|   C|  Q|\n",
      "|   C|  N|\n",
      "|   H|  Q|\n",
      "|   C|  R|\n",
      "|   H|  N|\n",
      "|   C|  G|\n",
      "|   H|  A|\n",
      "|   C|  K|\n",
      "+----+---+\n",
      "\n"
     ]
    }
   ],
   "source": [
    "cereal = spark.sql(''' SELECT DISTINCT type, mfr FROM cereal ''')\n",
    "cereal.show()"
   ]
  },
  {
   "cell_type": "markdown",
   "metadata": {},
   "source": [
    "# Where no Spark SQL"
   ]
  },
  {
   "cell_type": "code",
   "execution_count": 45,
   "metadata": {},
   "outputs": [
    {
     "data": {
      "text/plain": [
       "19"
      ]
     },
     "execution_count": 45,
     "metadata": {},
     "output_type": "execute_result"
    }
   ],
   "source": [
    "cereal = spark.sql(''' SELECT * FROM cereal WHERE mfr = 'K' AND calories >= 100 ''')\n",
    "cereal.count()"
   ]
  },
  {
   "cell_type": "markdown",
   "metadata": {},
   "source": [
    "# Group By"
   ]
  },
  {
   "cell_type": "code",
   "execution_count": 46,
   "metadata": {},
   "outputs": [
    {
     "name": "stdout",
     "output_type": "stream",
     "text": [
      "+---+----+-----+--------------+\n",
      "|mfr|type|total|total_calories|\n",
      "+---+----+-----+--------------+\n",
      "|  A|   H|    1|           100|\n",
      "|  P|   C|    9|           980|\n",
      "|  K|   C|   23|          2500|\n",
      "|  G|   C|   22|          2450|\n",
      "|  Q|   C|    7|           660|\n",
      "|  R|   C|    8|           920|\n",
      "|  Q|   H|    1|           100|\n",
      "|  N|   H|    1|           100|\n",
      "|  N|   C|    5|           420|\n",
      "+---+----+-----+--------------+\n",
      "\n"
     ]
    }
   ],
   "source": [
    "cereal = spark.sql(''' \n",
    "                   SELECT \n",
    "                        mfr,\n",
    "                        type,\n",
    "                        COUNT(*) AS total,\n",
    "                        SUM(calories) AS total_calories\n",
    "                   FROM\n",
    "                        cereal\n",
    "                   GROUP BY\n",
    "                        mfr,\n",
    "                        type ''')\n",
    "cereal.show()"
   ]
  },
  {
   "cell_type": "markdown",
   "metadata": {},
   "source": [
    "# Case When"
   ]
  },
  {
   "cell_type": "code",
   "execution_count": 47,
   "metadata": {},
   "outputs": [
    {
     "name": "stdout",
     "output_type": "stream",
     "text": [
      "+----+\n",
      "|type|\n",
      "+----+\n",
      "|   C|\n",
      "|   H|\n",
      "+----+\n",
      "\n"
     ]
    }
   ],
   "source": [
    "cereal = spark.sql(''' SELECT DISTINCT type FROM cereal ''')\n",
    "cereal.show()"
   ]
  },
  {
   "cell_type": "code",
   "execution_count": 48,
   "metadata": {},
   "outputs": [
    {
     "name": "stdout",
     "output_type": "stream",
     "text": [
      "+---+----+--------+-----+--------------+\n",
      "|mfr|type|type_new|total|total_calories|\n",
      "+---+----+--------+-----+--------------+\n",
      "|  A|   H|       B|    1|           100|\n",
      "|  P|   C|       A|    9|           980|\n",
      "|  K|   C|       A|   23|          2500|\n",
      "|  G|   C|       A|   22|          2450|\n",
      "|  Q|   C|       A|    7|           660|\n",
      "|  R|   C|       A|    8|           920|\n",
      "|  Q|   H|       B|    1|           100|\n",
      "|  N|   H|       B|    1|           100|\n",
      "|  N|   C|       A|    5|           420|\n",
      "+---+----+--------+-----+--------------+\n",
      "\n"
     ]
    }
   ],
   "source": [
    "cereal = spark.sql(''' \n",
    "                    SELECT\n",
    "                        mfr,\n",
    "                        type,\n",
    "                        (CASE \n",
    "                            WHEN type = 'C' THEN 'A'\n",
    "                            WHEN type = 'H' THEN 'B'\n",
    "                            ELSE 'D' END) AS type_new,\n",
    "                        COUNT(*) AS total,                   \n",
    "                        SUM(calories) AS total_calories\n",
    "                    FROM\n",
    "                        cereal\n",
    "                    GROUP BY\n",
    "                        mfr,\n",
    "                        type\n",
    "                    ''')\n",
    "\n",
    "cereal.show()"
   ]
  },
  {
   "cell_type": "markdown",
   "metadata": {},
   "source": [
    "# Consultas avançadas em SQL usando PySpark"
   ]
  },
  {
   "cell_type": "code",
   "execution_count": 49,
   "metadata": {},
   "outputs": [
    {
     "name": "stdout",
     "output_type": "stream",
     "text": [
      "+--------------------+---+----+--------+-------+---+------+-----+-----+------+------+--------+-----+------+----+---------+\n",
      "|                name|mfr|type|calories|protein|fat|sodium|fiber|carbo|sugars|potass|vitamins|shelf|weight|cups|   rating|\n",
      "+--------------------+---+----+--------+-------+---+------+-----+-----+------+------+--------+-----+------+----+---------+\n",
      "|           100% Bran|  N|   C|      70|      4|  1|   130| 10.0|  5.0|     6|   280|      25|    3|   1.0|0.33|68.402973|\n",
      "|   100% Natural Bran|  Q|   C|     120|      3|  5|    15|  2.0|  8.0|     8|   135|       0|    3|   1.0| 1.0|33.983679|\n",
      "|            All-Bran|  K|   C|      70|      4|  1|   260|  9.0|  7.0|     5|   320|      25|    3|   1.0|0.33|59.425505|\n",
      "|All-Bran with Ext...|  K|   C|      50|      4|  0|   140| 14.0|  8.0|     0|   330|      25|    3|   1.0| 0.5|93.704912|\n",
      "|      Almond Delight|  R|   C|     110|      2|  2|   200|  1.0| 14.0|     8|    -1|      25|    3|   1.0|0.75|34.384843|\n",
      "+--------------------+---+----+--------+-------+---+------+-----+-----+------+------+--------+-----+------+----+---------+\n",
      "only showing top 5 rows\n",
      "\n"
     ]
    }
   ],
   "source": [
    "df.show(5)"
   ]
  },
  {
   "cell_type": "code",
   "execution_count": 50,
   "metadata": {},
   "outputs": [
    {
     "name": "stdout",
     "output_type": "stream",
     "text": [
      "+---+----+--------------+------------+------------+-------------+-----------+---------+---------+----------+--------------+------------+------------+-------------+-------------+--------+\n",
      "|mfr|type|total_calories|min_calories|max_calories|mean_calories|total_carbo|min_carbo|max_carbo|mean_carbo|total_vitamins|min_vitamins|max_vitamins|mean_vitamins|dist_qtd_name|qtd_name|\n",
      "+---+----+--------------+------------+------------+-------------+-----------+---------+---------+----------+--------------+------------+------------+-------------+-------------+--------+\n",
      "|  A|   H|           100|         100|         100|       100.00|       16.0|     16.0|     16.0|     16.00|            25|          25|          25|        25.00|            1|       1|\n",
      "|  G|   C|          2450|         100|         140|       111.36|      324.0|     10.5|     21.0|     14.73|           775|          25|         100|        35.23|           22|      22|\n",
      "|  K|   C|          2500|          50|         160|       108.70|      348.0|      7.0|     22.0|     15.13|           800|          25|         100|        34.78|           23|      23|\n",
      "|  N|   C|           420|          70|          90|        84.00|       75.0|      5.0|     20.0|     15.00|            50|           0|          25|        10.00|            5|       5|\n",
      "|  N|   H|           100|         100|         100|       100.00|       21.0|     21.0|     21.0|     21.00|             0|           0|           0|         0.00|            1|       1|\n",
      "|  P|   C|           980|          90|         120|       108.89|      119.0|     11.0|     17.0|     13.22|           225|          25|          25|        25.00|            9|       9|\n",
      "|  Q|   C|           660|          50|         120|        94.29|       81.0|      8.0|     14.0|     11.57|           100|           0|          25|        14.29|            7|       7|\n",
      "|  Q|   H|           100|         100|         100|       100.00|       -1.0|     -1.0|     -1.0|     -1.00|             0|           0|           0|         0.00|            1|       1|\n",
      "|  R|   C|           920|          90|         150|       115.00|      141.0|     14.0|     23.0|     17.63|           200|          25|          25|        25.00|            8|       8|\n",
      "+---+----+--------------+------------+------------+-------------+-----------+---------+---------+----------+--------------+------------+------------+-------------+-------------+--------+\n",
      "\n"
     ]
    }
   ],
   "source": [
    "cereal = spark.sql('''\n",
    "                    SELECT\n",
    "                        mfr,\n",
    "                        type,\n",
    "                   \n",
    "                        SUM(calories) AS total_calories,\n",
    "                        MIN(calories) AS min_calories,\n",
    "                        MAX(calories) AS max_calories,\n",
    "                        CAST(AVG(calories) AS DECIMAL(10, 2)) AS mean_calories,\n",
    "                   \n",
    "                        SUM(carbo) AS total_carbo,\n",
    "                        MIN(carbo) AS min_carbo,\n",
    "                        MAX(carbo) AS max_carbo,\n",
    "                        CAST(AVG(carbo) AS DECIMAL(10, 2)) AS mean_carbo,\n",
    "\n",
    "                        SUM(vitamins) AS total_vitamins,\n",
    "                        MIN(vitamins) AS min_vitamins,\n",
    "                        MAX(vitamins) AS max_vitamins,\n",
    "                        CAST(AVG(vitamins) AS DECIMAL(10, 2)) AS mean_vitamins,\n",
    "\n",
    "                        COUNT(DISTINCT name) AS dist_qtd_name,\n",
    "                        COUNT(name) AS qtd_name\n",
    "                   FROM cereal\n",
    "                   GROUP BY mfr, type\n",
    "                   ORDER BY mfr, type\n",
    "                ''')\n",
    "\n",
    "cereal.show()"
   ]
  },
  {
   "cell_type": "code",
   "execution_count": 51,
   "metadata": {},
   "outputs": [
    {
     "name": "stdout",
     "output_type": "stream",
     "text": [
      "+---+----+----------+--------------+------------+------------+-------------+-----------+---------+---------+----------+--------------+------------+------------+-------------+-------------+--------+\n",
      "|mfr|type|type_fruit|total_calories|min_calories|max_calories|mean_calories|total_carbo|min_carbo|max_carbo|mean_carbo|total_vitamins|min_vitamins|max_vitamins|mean_vitamins|dist_qtd_name|qtd_name|\n",
      "+---+----+----------+--------------+------------+------------+-------------+-----------+---------+---------+----------+--------------+------------+------------+-------------+-------------+--------+\n",
      "|  A|   H|   Abacaxi|           100|         100|         100|       100.00|       16.0|     16.0|     16.0|     16.00|            25|          25|          25|        25.00|            1|       1|\n",
      "|  G|   C|    Goiaba|          2450|         100|         140|       111.36|      324.0|     10.5|     21.0|     14.73|           775|          25|         100|        35.23|           22|      22|\n",
      "|  K|   C|      Kiwi|          2500|          50|         160|       108.70|      348.0|      7.0|     22.0|     15.13|           800|          25|         100|        34.78|           23|      23|\n",
      "|  N|   C|   Morango|           420|          70|          90|        84.00|       75.0|      5.0|     20.0|     15.00|            50|           0|          25|        10.00|            5|       5|\n",
      "|  N|   H|   Morango|           100|         100|         100|       100.00|       21.0|     21.0|     21.0|     21.00|             0|           0|           0|         0.00|            1|       1|\n",
      "|  P|   C|      Pera|           980|          90|         120|       108.89|      119.0|     11.0|     17.0|     13.22|           225|          25|          25|        25.00|            9|       9|\n",
      "|  Q|   C|    Banana|           660|          50|         120|        94.29|       81.0|      8.0|     14.0|     11.57|           100|           0|          25|        14.29|            7|       7|\n",
      "|  Q|   H|    Banana|           100|         100|         100|       100.00|       -1.0|     -1.0|     -1.0|     -1.00|             0|           0|           0|         0.00|            1|       1|\n",
      "|  R|   C|      Maca|           920|          90|         150|       115.00|      141.0|     14.0|     23.0|     17.63|           200|          25|          25|        25.00|            8|       8|\n",
      "+---+----+----------+--------------+------------+------------+-------------+-----------+---------+---------+----------+--------------+------------+------------+-------------+-------------+--------+\n",
      "\n"
     ]
    }
   ],
   "source": [
    "cereal = spark.sql('''\n",
    "                    SELECT\n",
    "                        mfr,\n",
    "                        type,\n",
    "                        (CASE\n",
    "                            WHEN mfr = 'A' THEN 'Abacaxi'\n",
    "                            WHEN mfr = 'G' THEN 'Goiaba'\n",
    "                            WHEN mfr = 'K' THEN 'Kiwi'\n",
    "                            WHEN mfr = 'N' THEN 'Morango'\n",
    "                            WHEN mfr = 'P' THEN 'Pera'\n",
    "                            WHEN mfr = 'Q' THEN 'Banana'\n",
    "                            WHEN mfr = 'R' THEN 'Maca'\n",
    "                            ELSE 'NA'\n",
    "                        END) AS type_fruit,\n",
    "                   \n",
    "                        SUM(calories) AS total_calories,\n",
    "                        MIN(calories) AS min_calories,\n",
    "                        MAX(calories) AS max_calories,\n",
    "                        CAST(AVG(calories) AS DECIMAL(10, 2)) AS mean_calories,\n",
    "                   \n",
    "                        SUM(carbo) AS total_carbo,\n",
    "                        MIN(carbo) AS min_carbo,\n",
    "                        MAX(carbo) AS max_carbo,\n",
    "                        CAST(AVG(carbo) AS DECIMAL(10, 2)) AS mean_carbo,\n",
    "\n",
    "                        SUM(vitamins) AS total_vitamins,\n",
    "                        MIN(vitamins) AS min_vitamins,\n",
    "                        MAX(vitamins) AS max_vitamins,\n",
    "                        CAST(AVG(vitamins) AS DECIMAL(10, 2)) AS mean_vitamins,\n",
    "\n",
    "                        COUNT(DISTINCT name) AS dist_qtd_name,\n",
    "                        COUNT(name) AS qtd_name\n",
    "                   FROM cereal\n",
    "                   GROUP BY mfr, type\n",
    "                   ORDER BY mfr, type\n",
    "                ''')\n",
    "\n",
    "cereal.show()"
   ]
  },
  {
   "cell_type": "markdown",
   "metadata": {},
   "source": [
    "# JOINs"
   ]
  },
  {
   "cell_type": "markdown",
   "metadata": {},
   "source": [
    "## INNER"
   ]
  }
 ],
 "metadata": {
  "kernelspec": {
   "display_name": "Python 3",
   "language": "python",
   "name": "python3"
  },
  "language_info": {
   "codemirror_mode": {
    "name": "ipython",
    "version": 3
   },
   "file_extension": ".py",
   "mimetype": "text/x-python",
   "name": "python",
   "nbconvert_exporter": "python",
   "pygments_lexer": "ipython3",
   "version": "3.12.2"
  }
 },
 "nbformat": 4,
 "nbformat_minor": 2
}
