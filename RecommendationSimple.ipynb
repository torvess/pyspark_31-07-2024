{
 "cells": [
  {
   "cell_type": "code",
   "execution_count": 10,
   "metadata": {},
   "outputs": [],
   "source": [
    "import scipy\n",
    "from scipy import stats\n",
    "import numpy as np"
   ]
  },
  {
   "cell_type": "code",
   "execution_count": 11,
   "metadata": {},
   "outputs": [
    {
     "name": "stdout",
     "output_type": "stream",
     "text": [
      "[[ 8  0  3  4  6]\n",
      " [ 5  6  1  8  9]\n",
      " [ 8  0  0  5 10]]\n"
     ]
    }
   ],
   "source": [
    "# criacao dos dados que vamos utilizar\n",
    "matrix = np.array([[8,0,3,4,6],[5,6,1,8,9],[8,0,0,5,10]])\n",
    "novo_user = [8,0,2,3,0]\n",
    "nao_assistidos = [0,1,0,0,1]\n",
    "print(matrix)\n",
    "nome_filmes = ['Round 6', 'A invocacao do mal', '9 Desconhecidos', 'You', 'La casa de papel']"
   ]
  },
  {
   "cell_type": "code",
   "execution_count": 20,
   "metadata": {},
   "outputs": [
    {
     "name": "stdout",
     "output_type": "stream",
     "text": [
      "[8 0 3 4 6]\n",
      "[5 6 1 8 9]\n",
      "[ 8  0  0  5 10]\n"
     ]
    }
   ],
   "source": [
    "for i in range(0, 3):\n",
    "    # vamos pegar os dados desse usuário\n",
    "    print(matrix[i,:])"
   ]
  },
  {
   "cell_type": "code",
   "execution_count": 22,
   "metadata": {},
   "outputs": [
    {
     "name": "stdout",
     "output_type": "stream",
     "text": [
      "------------------------------------------------------------\n",
      "0 [8 0 3 4 6]\n",
      "user:  0\n",
      "[8, 3, 4] [8, 2, 3]\n",
      "------------------------------------------------------------\n",
      "1 [5 6 1 8 9]\n",
      "user:  1\n",
      "[5, 1, 8] [8, 2, 3]\n",
      "------------------------------------------------------------\n",
      "2 [ 8  0  0  5 10]\n",
      "user:  2\n",
      "[8, 0, 5] [8, 2, 3]\n",
      "[0.9994237971287663, 0.23621543814299698, 0.8723686098443353]\n"
     ]
    }
   ],
   "source": [
    "# criando um vetor com 3 posições e preencher com zero (vamos colocar os valores da similaridade entre o novoUser e cada outro usuário da matriz )\n",
    "similarity = [0] * 3\n",
    "\n",
    "# para cada usuario no sitema...\n",
    "for i in range(0, 3):\n",
    "    # vamos pegar os dados desse usuário\n",
    "    temp = matrix[i,:]\n",
    "\n",
    "    print(i, temp)\n",
    "    # mas queremos apenas comparar os dados que o novo user assistiu (ou seja... que novouser != 0)\n",
    "    temp_user = [t for n, t in zip(novo_user, temp) if n != 0]\n",
    "    temp_user_novo = [n for n in novo_user if n!= 0]\n",
    "\n",
    "    # para verificar o processo\n",
    "    print('user: ', i)\n",
    "    print(temp_user, temp_user_novo)\n",
    "\n",
    "    # vamnos usar a biblioteca scipy.stats que ja calcula o pearson\n",
    "    similarity[i] = scipy.stats.pearsonr(temp_user, temp_user_novo)[0] #\n",
    "\n",
    "print(similarity)"
   ]
  },
  {
   "cell_type": "code",
   "execution_count": 28,
   "metadata": {},
   "outputs": [
    {
     "name": "stdout",
     "output_type": "stream",
     "text": [
      "[[0.         0.         0.         0.         5.99654278]\n",
      " [0.         1.41729263 0.         0.         2.12593894]\n",
      " [0.         0.         0.         0.         8.7236861 ]]\n"
     ]
    }
   ],
   "source": [
    "nota_peso = np.zeros((3,5))\n",
    "\n",
    "for nUser in range(3):\n",
    "  for nFilme in range(5):\n",
    "    # print('nota_peso[',nUser, '][',nFilme, '] = , nao_assistidos[',nFilme, '], * ,matrix[',nUser,'][',nFilme, '], * similarity[',nUser,']')\n",
    "    # print('nota_peso[',nUser, '][',nFilme, '] = ', nao_assistidos[nFilme], ' * ' ,matrix[nUser][nFilme], ' * ', similarity[nUser])\n",
    "    nota_peso[nUser][nFilme] = nao_assistidos[nFilme] * matrix[nUser][nFilme] * similarity[nUser]\n",
    "\n",
    "print(nota_peso)"
   ]
  },
  {
   "cell_type": "code",
   "execution_count": 5,
   "metadata": {},
   "outputs": [
    {
     "name": "stdout",
     "output_type": "stream",
     "text": [
      "[ 0.          1.41729263  0.          0.         16.84616782]\n"
     ]
    }
   ],
   "source": [
    "notas_acumuladas = np.sum(nota_peso.T,axis=1)\n",
    "print(notas_acumuladas)"
   ]
  },
  {
   "cell_type": "code",
   "execution_count": 6,
   "metadata": {},
   "outputs": [
    {
     "name": "stdout",
     "output_type": "stream",
     "text": [
      "[[0. 0. 0. 0. 1.]\n",
      " [0. 1. 0. 0. 1.]\n",
      " [0. 0. 0. 0. 1.]]\n",
      "[[0.         0.         0.         0.         0.9994238 ]\n",
      " [0.         0.23621544 0.         0.         0.23621544]\n",
      " [0.         0.         0.         0.         0.87236861]]\n",
      "[0.         0.23621544 0.         0.         2.10800785]\n"
     ]
    }
   ],
   "source": [
    "temp_peso = nota_peso\n",
    "temp_peso[nota_peso > 0] = 1\n",
    "print(temp_peso)\n",
    "\n",
    "temp_similaridade = np.zeros((3,5))\n",
    "for nUser in range(3):\n",
    "  for nFilme in range(5):\n",
    "    temp_similaridade[nUser][nFilme] = temp_peso[nUser][nFilme] * similarity[nUser]\n",
    "\n",
    "print(temp_similaridade)\n",
    "\n",
    "similaridade_acumulada = np.sum(temp_similaridade.T,axis=1)\n",
    "print(similaridade_acumulada)"
   ]
  },
  {
   "cell_type": "code",
   "execution_count": 7,
   "metadata": {},
   "outputs": [
    {
     "name": "stdout",
     "output_type": "stream",
     "text": [
      "[0, 6.0, 0, 0, 7.991510972567143]\n"
     ]
    }
   ],
   "source": [
    "nota_final =[0] * 5\n",
    "#agora a normalização para cada filme com nota acumulada, eu normalizo pela soma dos pesos (similaridade)\n",
    "for nFilme in range(5):\n",
    "  if(similaridade_acumulada[nFilme] > 0):\n",
    "    nota_final[nFilme] =  notas_acumuladas[nFilme] / similaridade_acumulada[nFilme]\n",
    "  else:\n",
    "    nota_final[nFilme] = 0\n",
    "\n",
    "print(nota_final)"
   ]
  },
  {
   "cell_type": "code",
   "execution_count": 9,
   "metadata": {},
   "outputs": [
    {
     "name": "stdout",
     "output_type": "stream",
     "text": [
      "[4, 1]\n",
      "La casa de papel nota:  7.991510972567143\n",
      "A invocacao do mal nota:  6.0\n"
     ]
    }
   ],
   "source": [
    "nAssistidos = sum(nao_assistidos)\n",
    "\n",
    "notasOrdenadasIndex = sorted(range(len(nota_final)),key=nota_final.__getitem__)[::-1][0:nAssistidos]\n",
    "print(notasOrdenadasIndex)\n",
    "\n",
    "for i in notasOrdenadasIndex:\n",
    "  print(nome_filmes[i], 'nota: ', nota_final[i])"
   ]
  }
 ],
 "metadata": {
  "kernelspec": {
   "display_name": "Python 3",
   "language": "python",
   "name": "python3"
  },
  "language_info": {
   "codemirror_mode": {
    "name": "ipython",
    "version": 3
   },
   "file_extension": ".py",
   "mimetype": "text/x-python",
   "name": "python",
   "nbconvert_exporter": "python",
   "pygments_lexer": "ipython3",
   "version": "3.12.2"
  }
 },
 "nbformat": 4,
 "nbformat_minor": 2
}
